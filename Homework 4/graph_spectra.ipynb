{
 "cells": [
  {
   "cell_type": "code",
   "execution_count": 833,
   "metadata": {},
   "outputs": [],
   "source": [
    "import numpy as np\n",
    "import networkx as nx\n",
    "from numpy.linalg import norm ,inv,eigh\n",
    "from sklearn.cluster import KMeans\n",
    "from scipy.linalg import sqrtm\n",
    "from collections import defaultdict\n",
    "import matplotlib.pyplot as plt\n",
    "from operator import itemgetter\n",
    "from sklearn.preprocessing import normalize\n",
    "plt.rcParams['text.usetex'] = True"
   ]
  },
  {
   "cell_type": "code",
   "execution_count": 834,
   "metadata": {},
   "outputs": [],
   "source": [
    "def read_points(filename):\n",
    "\n",
    "\tpoints = []\n",
    "\n",
    "\twith open(\"data/\" + filename, 'r') as dataset:\n",
    "\n",
    "\t\tfor line in dataset:\n",
    "\t\t\tpoint = [int(x) for x in line.split(',')[:2]]\n",
    "\n",
    "\t\t\tpoints.append(np.array(point))\n",
    "\treturn np.array(points)"
   ]
  },
  {
   "cell_type": "code",
   "execution_count": 835,
   "metadata": {},
   "outputs": [],
   "source": [
    "def build_A(points,sigma_sq=1):\n",
    "\n",
    "\tn = len(points)\n",
    "\tA = np.zeros((n,n))\n",
    "\n",
    "\tfor i in range(n):\n",
    "\t\tsi = points[i]\n",
    "\t\tfor j in range(n):\n",
    "\n",
    "\t\t\tif i <= j: continue\n",
    "\n",
    "\t\t\tsj = points[j]\n",
    "\n",
    "\t\t\t#dist = norm(si-sj)**2\n",
    "\t\t\tA[i][j] = A[j][i] = 1#dist #np.exp(-dist/(2*(sigma_sq)))\n",
    "\n",
    "\t#A = np.exp(-A/(2*sigma_sq))\n",
    "\treturn A"
   ]
  },
  {
   "cell_type": "code",
   "execution_count": null,
   "metadata": {},
   "outputs": [],
   "source": []
  },
  {
   "cell_type": "code",
   "execution_count": 836,
   "metadata": {},
   "outputs": [],
   "source": [
    "def build_L(A,D):\n",
    "\n",
    "\tsqrt_D = inv(sqrtm(D))\n",
    "\n",
    "\treturn sqrt_D.dot(A).dot(sqrt_D)"
   ]
  },
  {
   "cell_type": "code",
   "execution_count": 837,
   "metadata": {},
   "outputs": [],
   "source": [
    "def sort_vec(vector):\n",
    "\treturn np.sqrt(sum(x * x for x in vector))"
   ]
  },
  {
   "cell_type": "code",
   "execution_count": 838,
   "metadata": {},
   "outputs": [],
   "source": [
    "def compute_eigenvec(L):\n",
    "\treturn eigh(L)"
   ]
  },
  {
   "cell_type": "code",
   "execution_count": 839,
   "metadata": {},
   "outputs": [],
   "source": [
    "def sort_eigenvec(eig_vec):\n",
    "\treturn sorted(eig_vec, key=sort_vec, reverse=True)"
   ]
  },
  {
   "cell_type": "code",
   "execution_count": 840,
   "metadata": {},
   "outputs": [],
   "source": [
    "def build_X(k, sorted_eigenvec):\n",
    "\tk_largest_eig_vec = sorted_eigenvec[:k]\n",
    "\treturn np.vstack(k_largest_eig_vec).T"
   ]
  },
  {
   "cell_type": "code",
   "execution_count": 841,
   "metadata": {},
   "outputs": [],
   "source": [
    "def normalize_X(X):\n",
    "\tnorm = np.linalg.norm(X)\n",
    "\treturn X / norm"
   ]
  },
  {
   "cell_type": "code",
   "execution_count": 842,
   "metadata": {},
   "outputs": [],
   "source": [
    "\tdataset_file = \"example1.dat\"\n",
    "\tK = 4\n",
    "\n",
    "\t# Read points from the dataset file\n",
    "\n",
    "\tpoints = read_points(dataset_file)"
   ]
  },
  {
   "cell_type": "code",
   "execution_count": 843,
   "metadata": {},
   "outputs": [
    {
     "data": {
      "text/plain": [
       "array([[  1,   2],\n",
       "       [  1,   3],\n",
       "       [  1,   4],\n",
       "       ...,\n",
       "       [216, 235],\n",
       "       [213, 235],\n",
       "       [241, 235]])"
      ]
     },
     "execution_count": 843,
     "metadata": {},
     "output_type": "execute_result"
    }
   ],
   "source": [
    "points"
   ]
  },
  {
   "cell_type": "code",
   "execution_count": 844,
   "metadata": {},
   "outputs": [],
   "source": [
    "G = nx.Graph() # Create Graph Object\n",
    "G.add_edges_from(points) # Add edges from file content\n",
    "A = nx.adjacency_matrix(G).toarray() # Get Adjacency matrix in dense format"
   ]
  },
  {
   "cell_type": "code",
   "execution_count": 845,
   "metadata": {},
   "outputs": [
    {
     "name": "stdout",
     "output_type": "stream",
     "text": [
      "[[7 0 0 ... 0 0 0]\n",
      " [0 8 0 ... 0 0 0]\n",
      " [0 0 9 ... 0 0 0]\n",
      " ...\n",
      " [0 0 0 ... 2 0 0]\n",
      " [0 0 0 ... 0 5 0]\n",
      " [0 0 0 ... 0 0 2]]\n"
     ]
    }
   ],
   "source": [
    "def build_D(A):\n",
    "\n",
    "\tn = len(A)\n",
    "\n",
    "\tD = [np.sum(A[i]) for i in range(n)]\n",
    "\n",
    "\treturn np.diag(D)\n",
    "D = build_D(A)\n",
    "print(D)"
   ]
  },
  {
   "cell_type": "code",
   "execution_count": 846,
   "metadata": {},
   "outputs": [],
   "source": [
    "L = build_L(A,D)\n",
    "#L = nx.normalized_laplacian_matrix(G)\n",
    "\n",
    "#A = np.asarray(nx.adjacency_matrix(G).todense())\n",
    "#D=np.diag(np.sum(A, axis=1))\n",
    "\n",
    "#D_inv = np.linalg.inv(np.sqrt(D))\n",
    "#L = np.dot(np.dot(D_inv, A), D_inv)\n",
    "#print(L)"
   ]
  },
  {
   "cell_type": "code",
   "execution_count": 847,
   "metadata": {},
   "outputs": [
    {
     "name": "stdout",
     "output_type": "stream",
     "text": [
      "0.9999999999999999 -> 239 -> [ 0.00000000e+00  0.00000000e+00  0.00000000e+00  0.00000000e+00\n",
      "  0.00000000e+00  1.32124589e-02  0.00000000e+00  0.00000000e+00\n",
      "  0.00000000e+00  7.07998805e-04  0.00000000e+00  0.00000000e+00\n",
      "  0.00000000e+00  0.00000000e+00  0.00000000e+00  0.00000000e+00\n",
      " -1.59180970e-01  0.00000000e+00  0.00000000e+00  0.00000000e+00\n",
      "  0.00000000e+00  0.00000000e+00  0.00000000e+00  0.00000000e+00\n",
      "  0.00000000e+00  0.00000000e+00  0.00000000e+00  0.00000000e+00\n",
      "  1.08581622e-01  0.00000000e+00 -1.01063867e-01  0.00000000e+00\n",
      "  0.00000000e+00  0.00000000e+00  0.00000000e+00  0.00000000e+00\n",
      "  0.00000000e+00  0.00000000e+00  0.00000000e+00  0.00000000e+00\n",
      "  3.09924259e-01  0.00000000e+00  0.00000000e+00  0.00000000e+00\n",
      "  0.00000000e+00  0.00000000e+00  0.00000000e+00  0.00000000e+00\n",
      "  0.00000000e+00  0.00000000e+00  0.00000000e+00 -1.81266551e-01\n",
      "  0.00000000e+00  0.00000000e+00  0.00000000e+00  0.00000000e+00\n",
      "  0.00000000e+00 -1.33877545e-01  0.00000000e+00  0.00000000e+00\n",
      "  0.00000000e+00  0.00000000e+00  0.00000000e+00 -1.90553305e-01\n",
      "  0.00000000e+00  0.00000000e+00  0.00000000e+00  0.00000000e+00\n",
      "  0.00000000e+00  0.00000000e+00  0.00000000e+00  0.00000000e+00\n",
      " -7.76636999e-02  0.00000000e+00  0.00000000e+00  0.00000000e+00\n",
      "  0.00000000e+00 -3.92173549e-01  0.00000000e+00  0.00000000e+00\n",
      "  0.00000000e+00 -1.71820331e-01  0.00000000e+00  0.00000000e+00\n",
      "  0.00000000e+00  0.00000000e+00  0.00000000e+00  0.00000000e+00\n",
      "  0.00000000e+00  0.00000000e+00  0.00000000e+00  0.00000000e+00\n",
      "  1.33163875e-01  0.00000000e+00  0.00000000e+00  0.00000000e+00\n",
      "  0.00000000e+00  0.00000000e+00  3.34450579e-02  0.00000000e+00\n",
      "  2.89941164e-01  0.00000000e+00  0.00000000e+00  0.00000000e+00\n",
      " -5.87117559e-02  0.00000000e+00  0.00000000e+00  0.00000000e+00\n",
      "  0.00000000e+00  3.02505002e-01  0.00000000e+00  0.00000000e+00\n",
      "  0.00000000e+00  0.00000000e+00  0.00000000e+00  0.00000000e+00\n",
      "  0.00000000e+00  0.00000000e+00  0.00000000e+00  0.00000000e+00\n",
      "  0.00000000e+00  0.00000000e+00 -8.91362605e-02  0.00000000e+00\n",
      "  0.00000000e+00  0.00000000e+00  0.00000000e+00  0.00000000e+00\n",
      "  4.48623628e-02  0.00000000e+00  0.00000000e+00  1.11340051e-18\n",
      "  0.00000000e+00  0.00000000e+00  1.41140415e-01  0.00000000e+00\n",
      "  0.00000000e+00  0.00000000e+00  0.00000000e+00  0.00000000e+00\n",
      "  0.00000000e+00  0.00000000e+00  0.00000000e+00  0.00000000e+00\n",
      " -6.42377921e-02  0.00000000e+00  0.00000000e+00  0.00000000e+00\n",
      "  0.00000000e+00  0.00000000e+00  1.72358027e-01  0.00000000e+00\n",
      "  0.00000000e+00  0.00000000e+00  0.00000000e+00 -8.72480051e-02\n",
      "  0.00000000e+00  0.00000000e+00  6.10874253e-02  0.00000000e+00\n",
      "  0.00000000e+00 -7.66898109e-02  0.00000000e+00  0.00000000e+00\n",
      "  0.00000000e+00  0.00000000e+00  0.00000000e+00  0.00000000e+00\n",
      " -1.07837620e-01  0.00000000e+00  0.00000000e+00  0.00000000e+00\n",
      "  0.00000000e+00  0.00000000e+00  0.00000000e+00  0.00000000e+00\n",
      "  0.00000000e+00  0.00000000e+00  0.00000000e+00  0.00000000e+00\n",
      "  0.00000000e+00  0.00000000e+00  0.00000000e+00  0.00000000e+00\n",
      "  0.00000000e+00  2.29273463e-02  0.00000000e+00  0.00000000e+00\n",
      "  0.00000000e+00  0.00000000e+00  0.00000000e+00  3.62132219e-02\n",
      "  0.00000000e+00  0.00000000e+00  0.00000000e+00  0.00000000e+00\n",
      "  0.00000000e+00  0.00000000e+00  0.00000000e+00  0.00000000e+00\n",
      "  0.00000000e+00  3.56733586e-01  0.00000000e+00  0.00000000e+00\n",
      "  0.00000000e+00  0.00000000e+00  0.00000000e+00  0.00000000e+00\n",
      "  0.00000000e+00  0.00000000e+00  0.00000000e+00  0.00000000e+00\n",
      " -9.36252979e-02  0.00000000e+00  0.00000000e+00 -2.13022116e-01\n",
      "  0.00000000e+00  0.00000000e+00  0.00000000e+00  0.00000000e+00\n",
      " -2.93262221e-01  0.00000000e+00  0.00000000e+00  0.00000000e+00\n",
      "  0.00000000e+00  0.00000000e+00  0.00000000e+00  0.00000000e+00\n",
      "  0.00000000e+00  0.00000000e+00  0.00000000e+00  0.00000000e+00\n",
      "  0.00000000e+00  0.00000000e+00  0.00000000e+00  4.53135293e-02\n",
      "  0.00000000e+00  0.00000000e+00  0.00000000e+00  0.00000000e+00\n",
      " -1.35085807e-01]\n"
     ]
    },
    {
     "data": {
      "text/plain": [
       "(241,)"
      ]
     },
     "execution_count": 847,
     "metadata": {},
     "output_type": "execute_result"
    }
   ],
   "source": [
    "# Get the eigenvalues and vectors sorted (it's sorted in descending order)\n",
    "eigvals,eigvects = eigh(L)\n",
    "\n",
    "#print(eigvals)\n",
    "#print(eigvects)\n",
    "i = 0\n",
    "for x,y in zip(eigvals,eigvects):\n",
    "    if i == 239:\n",
    "        print(f\"{x} -> {i} -> {y}\")\n",
    "    i += 1\n",
    "eigvects[239].shape"
   ]
  },
  {
   "cell_type": "code",
   "execution_count": 848,
   "metadata": {},
   "outputs": [
    {
     "name": "stdout",
     "output_type": "stream",
     "text": [
      "(241, 4)\n"
     ]
    }
   ],
   "source": [
    "# Stack the K largest eigenvectors\n",
    "X = eigvects[:,-K:]\n",
    "print(X.shape)\n"
   ]
  },
  {
   "cell_type": "code",
   "execution_count": 849,
   "metadata": {},
   "outputs": [
    {
     "name": "stdout",
     "output_type": "stream",
     "text": [
      "[1. 1. 1. 1.]\n"
     ]
    }
   ],
   "source": [
    "# Y is the row-normalized version of X\n",
    "Y = X/norm(X, axis = 0, keepdims = True)\n",
    "\n",
    "print(np.sum( Y**2, axis=0 )) # Check that the normalization is correct"
   ]
  },
  {
   "cell_type": "markdown",
   "metadata": {},
   "source": [
    "## K-means clustering"
   ]
  },
  {
   "cell_type": "code",
   "execution_count": 850,
   "metadata": {},
   "outputs": [
    {
     "name": "stdout",
     "output_type": "stream",
     "text": [
      "Labels:\n",
      "Cluster 0 has  48 nodes\n",
      "Cluster 1 has  117 nodes\n",
      "Cluster 2 has  41 nodes\n",
      "Cluster 3 has  35 nodes\n"
     ]
    }
   ],
   "source": [
    "# Run KMeans algorithm\n",
    "labels = KMeans(n_clusters= K).fit_predict(Y)\n",
    "\n",
    "print(f\"Labels:\")\n",
    "for clust in np.unique(labels):\n",
    "    print(f\"Cluster {clust} has  {len(np.where(labels == clust)[0])} nodes\")"
   ]
  },
  {
   "cell_type": "code",
   "execution_count": null,
   "metadata": {},
   "outputs": [],
   "source": []
  },
  {
   "cell_type": "code",
   "execution_count": 851,
   "metadata": {},
   "outputs": [
    {
     "name": "stderr",
     "output_type": "stream",
     "text": [
      "C:\\Users\\Mauro Pungo\\Anaconda3\\lib\\site-packages\\networkx\\drawing\\nx_pylab.py:579: MatplotlibDeprecationWarning: \n",
      "The iterable function was deprecated in Matplotlib 3.1 and will be removed in 3.3. Use np.iterable instead.\n",
      "  if not cb.iterable(width):\n"
     ]
    },
    {
     "data": {
      "image/png": "[encoded data removed]",
      "text/plain": [
       "<Figure size 432x288 with 1 Axes>"
      ]
     },
     "metadata": {},
     "output_type": "display_data"
    }
   ],
   "source": [
    "nx.draw(G, node_size=30,node_color = labels)\n",
    "\n",
    "plt.savefig(f\"results/{dataset_file[:-4]}_clusters\")"
   ]
  },
  {
   "cell_type": "markdown",
   "metadata": {},
   "source": [
    "## Graph Spectrum"
   ]
  },
  {
   "cell_type": "code",
   "execution_count": 852,
   "metadata": {},
   "outputs": [
    {
     "name": "stdout",
     "output_type": "stream",
     "text": [
      "241\n"
     ]
    },
    {
     "data": {
      "image/png": "[encoded data removed]",
      "text/plain": [
       "<Figure size 432x288 with 2 Axes>"
      ]
     },
     "metadata": {
      "needs_background": "light"
     },
     "output_type": "display_data"
    }
   ],
   "source": [
    "num_nodes = X.shape[0]\n",
    "print(num_nodes)\n",
    "\n",
    "# Eigenvector associated to the 2nd largest eigenvalue\n",
    "v2 = eigvects[num_nodes - 2]\n",
    "fiedler_vect = sorted(v2)\n",
    "\n",
    "fig, axs = plt.subplots(ncols = 2,sharex = True,sharey = False)\n",
    "axs[0].plot(sorted(eigvals))\n",
    "axs[0].set_title('Eigenvalues of Laplacian $L_{Graph}$')\n",
    "axs[1].plot(fiedler_vect)\n",
    "axs[1].set_title('Fiedler vector ')\n",
    "axs[0].grid()\n",
    "axs[1].grid()\n",
    "plt.savefig(f\"results/{dataset_file[:-4]}_spectrum.png\")\n",
    "\n",
    "\n",
    "\n",
    "# Hide x labels and tick labels for top plots and y ticks for right plots.\n",
    "for ax in axs.flat:\n",
    "    ax.label_outer()\n",
    "\n",
    "plt.savefig(\"\")\n",
    "plt.show()\n"
   ]
  },
  {
   "cell_type": "markdown",
   "metadata": {},
   "source": [
    "## Sparsity Matrix"
   ]
  },
  {
   "cell_type": "code",
   "execution_count": 853,
   "metadata": {
    "scrolled": true
   },
   "outputs": [
    {
     "data": {
      "image/png": "[encoded data removed]",
      "text/plain": [
       "<Figure size 432x288 with 1 Axes>"
      ]
     },
     "metadata": {
      "needs_background": "light"
     },
     "output_type": "display_data"
    }
   ],
   "source": [
    "plt.title(\"Sparsity of Matrix A\")\n",
    "\n",
    "plt.spy(A)\n",
    "plt.savefig(f\"results/{dataset_file[:-4]}_sparsity.png\")\n",
    "plt.show()\n"
   ]
  }
 ],
 "metadata": {
  "kernelspec": {
   "display_name": "Python 3",
   "language": "python",
   "name": "python3"
  },
  "language_info": {
   "codemirror_mode": {
    "name": "ipython",
    "version": 3
   },
   "file_extension": ".py",
   "mimetype": "text/x-python",
   "name": "python",
   "nbconvert_exporter": "python",
   "pygments_lexer": "ipython3",
   "version": "3.7.4"
  }
 },
 "nbformat": 4,
 "nbformat_minor": 2
}
